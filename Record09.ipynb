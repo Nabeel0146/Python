{
 "cells": [
  {
   "cell_type": "markdown",
   "id": "2242a7c5",
   "metadata": {},
   "source": [
    "1. Write a Python program to read a file line by line and store it into a list."
   ]
  },
  {
   "cell_type": "code",
   "execution_count": 1,
   "id": "1c5430a3",
   "metadata": {},
   "outputs": [
    {
     "name": "stdout",
     "output_type": "stream",
     "text": [
      "['Somewhere over the rainbow Way up high \\n', ' Directed by Shanks\\n']\n"
     ]
    }
   ],
   "source": [
    "f = open(\"ss.txt\",\"r\")\n",
    "print(f.readlines())"
   ]
  },
  {
   "cell_type": "markdown",
   "id": "5eae0485",
   "metadata": {},
   "source": [
    "2. Python program to copy odd lines of one file to other."
   ]
  },
  {
   "cell_type": "code",
   "execution_count": 2,
   "id": "e79d8c0b",
   "metadata": {},
   "outputs": [
    {
     "name": "stdout",
     "output_type": "stream",
     "text": [
      "Enter the source file : ss.txt\n",
      "Enter the destination file :cj.txt\n",
      "Odd lines have been Written to  ss.txt\n"
     ]
    }
   ],
   "source": [
    "file1 = input(\"Enter the source file : \")\n",
    "file2 = input(\"Enter the destination file :\")\n",
    "\n",
    "f1 = open(\"ss.txt\",\"r\")\n",
    "f2 = open(\"cj.txt\",\"w\")\n",
    "\n",
    "i = 0\n",
    "for line in f1.readlines():\n",
    "    i += 1\n",
    "    if i % 2!= 0:\n",
    "        f2.write(line)\n",
    "\n",
    "f1.close()\n",
    "f2.close()\n",
    "print(\"Odd lines have been Written to \",\"ss.txt\")"
   ]
  },
  {
   "cell_type": "markdown",
   "id": "9c208aba",
   "metadata": {},
   "source": [
    "3. Write a python program to read each row each from a given csv file and point a list of Strings."
   ]
  },
  {
   "cell_type": "code",
   "execution_count": 3,
   "id": "fa6bd713",
   "metadata": {},
   "outputs": [
    {
     "name": "stdout",
     "output_type": "stream",
     "text": [
      "Enter csv file name: salaries.csv\n",
      "['Name', 'Salary']\n",
      "['John', '1000']\n",
      "['Simpson', '5000']\n",
      "['Alice', '2000']\n"
     ]
    }
   ],
   "source": [
    "import csv\n",
    "\n",
    "fname = input(\"Enter csv file name: \")\n",
    "\n",
    "f1 = open(fname, \"r\")\n",
    "reader = csv.reader(f1)\n",
    "\n",
    "for row in reader:\n",
    "    print(row)\n",
    "\n",
    "f1.close()"
   ]
  },
  {
   "cell_type": "markdown",
   "id": "23d87369",
   "metadata": {},
   "source": [
    "4. Write a python program to read specific columns of a given csv file and print the content of the columns."
   ]
  },
  {
   "cell_type": "code",
   "execution_count": 7,
   "id": "de921c02",
   "metadata": {},
   "outputs": [
    {
     "name": "stdout",
     "output_type": "stream",
     "text": [
      "Enter CSV file name: salaries.csv\n",
      "Enter the column indices: 1\n",
      "['Salary']\n",
      "['1000']\n",
      "['5000']\n",
      "['2000']\n"
     ]
    }
   ],
   "source": [
    "import csv\n",
    "\n",
    "fname = input(\"Enter CSV file name: \")\n",
    "col_input = input(\"Enter the column indices: \")\n",
    "col_to_read = [int(index) for index in col_input.split(',')]\n",
    "\n",
    "f1 = open(fname, \"r\")\n",
    "reader = csv.reader(f1)\n",
    "\n",
    "for row in reader:\n",
    "     sel_col = [row[i] for i in col_to_read if i < len(row)]\n",
    "     print(sel_col)"
   ]
  },
  {
   "cell_type": "markdown",
   "id": "d9559a1d",
   "metadata": {},
   "source": [
    "5. Write a Python program to write a Python dictionary to a csv file. After writing the CSV file read the CSV file and display the content."
   ]
  },
  {
   "cell_type": "code",
   "execution_count": 8,
   "id": "416b517b",
   "metadata": {},
   "outputs": [
    {
     "name": "stdout",
     "output_type": "stream",
     "text": [
      "Enter Names (separated by space): John Alice\n",
      "Enter Salaries (separated by space): 1000 2000\n",
      "Data written to ex.csv\n",
      "['Name', 'Salary']\n",
      "['John', '1000']\n",
      "['Alice', '2000']\n"
     ]
    }
   ],
   "source": [
    "import csv\n",
    "\n",
    "names = input(\"Enter Names (separated by space): \").split()\n",
    "salaries = input(\"Enter Salaries (separated by space): \").split()\n",
    "\n",
    "d = dict(zip(names, salaries))\n",
    "\n",
    "cf = \"ex.csv\"\n",
    "f = open(cf, 'w', newline='')\n",
    "writer = csv.writer(f)\n",
    "writer.writerow([\"Name\", \"Salary\"])\n",
    "\n",
    "for key, value in d.items():\n",
    "    writer.writerow([key, value])\n",
    "f.close()\n",
    "\n",
    "print(f\"Data written to {cf}\")\n",
    "\n",
    "f = open(cf, 'r')\n",
    "reader = csv.reader(f)\n",
    "for row in reader:\n",
    "    print(row)\n",
    "f.close()"
   ]
  },
  {
   "cell_type": "code",
   "execution_count": null,
   "id": "cc10ae77",
   "metadata": {},
   "outputs": [],
   "source": []
  }
 ],
 "metadata": {
  "kernelspec": {
   "display_name": "Python 3 (ipykernel)",
   "language": "python",
   "name": "python3"
  },
  "language_info": {
   "codemirror_mode": {
    "name": "ipython",
    "version": 3
   },
   "file_extension": ".py",
   "mimetype": "text/x-python",
   "name": "python",
   "nbconvert_exporter": "python",
   "pygments_lexer": "ipython3",
   "version": "3.10.12"
  }
 },
 "nbformat": 4,
 "nbformat_minor": 5
}
