
{
 "cells": [
  {
   "cell_type": "markdown",
   "id": "94ee50ea",
   "metadata": {},
   "source": [
    "1.Find gcd of 2 numbers."
   ]
  },
  {
   "cell_type": "code",
   "execution_count": 1,
   "id": "b627817b-a882-48e7-b9ad-e94acd058058",
   "metadata": {},
   "outputs": [
    {
     "name": "stdout",
     "output_type": "stream",
     "text": [
      "Enter first:10\n",
      "Enter second :15\n",
      "Gcd of 2 no: 5\n"
     ]
    }
   ],
   "source": [
    "a=int(input(\"Enter first:\"))\n",
    "b=int(input(\"Enter second :\"))\n",
    "while b:\n",
    "    a,b=b,a%b\n",
    "print(\"Gcd of 2 no:\",a)"
   ]
  },
  {
   "cell_type": "markdown",
   "id": "459819ba",
   "metadata": {},
   "source": [
    "2. From a list of integers, create a list removing even numbers."
   ]
  },
  {
   "cell_type": "code",
   "execution_count": 13,
   "id": "cd8fcf47-1da4-4332-800b-b5e636715713",
   "metadata": {},
   "outputs": [
    {
     "name": "stdin",
     "output_type": "stream",
     "text": [
      "Enter a list of numbers : 1 2 3 4 5 6 7 8\n"
     ]
    },
    {
     "name": "stdout",
     "output_type": "stream",
     "text": [
      "without even : [1, 3, 5, 7]\n"
     ]
    }
   ],
   "source": [
    "numbers=input(\"Enter a list of numbers :\").split()\n",
    "num=[]\n",
    "for x in numbers:\n",
    "    if(int(x)%2!=0):\n",
    "        num.append(int(x))\n",
    "print(\"without even :\",num)"
   ]
  },
  {
   "cell_type": "markdown",
   "id": "5427858d",
   "metadata": {},
   "source": [
    "3. Find the sum of all items in a list"
   ]
  },
  {
   "cell_type": "code",
   "execution_count": 6,
   "id": "4e88b68e-c8eb-49f0-8cfa-b081b980e102",
   "metadata": {},
   "outputs": [
    {
     "name": "stdout",
     "output_type": "stream",
     "text": [
      "Enter the numbers: 2 3 5 3\n",
      "sum of numbers : 13\n"
     ]
    }
   ],
   "source": [
    "num = input(\"Enter the numbers: \").split()\n",
    "sum = 0\n",
    "for n in num:\n",
    "    sum += int(n)\n",
    "print(\"sum of numbers :\",sum)"
   ]
  },
  {
   "cell_type": "markdown",
   "id": "dc63cd93",
   "metadata": {},
   "source": [
    "4.list of four digit numbers in a given range ,even and the number is a perfect square."
   ]
  },
  {
   "cell_type": "code",
   "execution_count": 22,
   "id": "4bcff564-41f1-4484-ba3e-18697dcc06b4",
   "metadata": {},
   "outputs": [
    {
     "name": "stdin",
     "output_type": "stream",
     "text": [
      "Enter starting index:  1000\n",
      "Enter ending index:  9999\n"
     ]
    },
    {
     "name": "stdout",
     "output_type": "stream",
     "text": [
      "Four digit even perfect square numbers = [4624, 6084, 6400, 8464]\n"
     ]
    }
   ],
   "source": [
    "import math\n",
    "start = int(input(\"Enter starting index: \"))\n",
    "end = int(input(\"Enter ending index: \"))\n",
    "start = max(1000, start)\n",
    "end = min(9999, end)\n",
    "results = []\n",
    "for i in range(start, end + 1):\n",
    "    if int(math.sqrt(i)) ** 2 == i and all(int(digit) % 2 == 0 for digit in str(i)):\n",
    "        results.append(i)\n",
    "print(\"Four digit even perfect square numbers =\", results)"
   ]
  },
  {
   "cell_type": "markdown",
   "id": "02bf614a",
   "metadata": {},
   "source": [
    " 5. Count the number of characters (character frequency) in a string."
   ]
  },
  {
   "cell_type": "code",
   "execution_count": 3,
   "id": "7c504bb3-aab5-4f7a-9a43-2d3d5623d4ac",
   "metadata": {},
   "outputs": [
    {
     "name": "stdout",
     "output_type": "stream",
     "text": [
      "Enter a string: nabeel\n",
      "a occurs : 1 times\n",
      "l occurs : 1 times\n",
      "n occurs : 1 times\n",
      "b occurs : 1 times\n",
      "e occurs : 2 times\n"
     ]
    }
   ],
   "source": [
    "word = input(\"Enter a string: \")\n",
    "count = {}\n",
    "for a in set(word):\n",
    "    print(f\"{a} occurs : {word.count(a)} times\")\n"
   ]
  },
  {
   "cell_type": "markdown",
   "id": "539120a2",
   "metadata": {},
   "source": [
    " 6. Add ‘ing’ at the end of a given string. If it already ends with ‘ing’, then add ‘ly’"
   ]
  },
  {
   "cell_type": "code",
   "execution_count": 5,
   "id": "b50b2e9d-942c-40ba-8e7b-9d432cf8a977",
   "metadata": {},
   "outputs": [
    {
     "name": "stdout",
     "output_type": "stream",
     "text": [
      "Enter a string :automat\n",
      "word adding ing : automating\n"
     ]
    }
   ],
   "source": [
    "word=input(\"Enter a string :\").lower()\n",
    "if word.endswith('ing'):\n",
    "    print(\"word adding ly :\",word + 'ly')\n",
    "else:\n",
    "    print(\"word adding ing :\",word+'ing')"
   ]
  },
  {
   "cell_type": "code",
   "execution_count": null,
   "id": "745490d8-d3d8-4992-8880-0824271d1bf1",
   "metadata": {},
   "outputs": [],
   "source": []
  }
 ],
 "metadata": {
  "kernelspec": {
   "display_name": "Python 3 (ipykernel)",
   "language": "python",
   "name": "python3"
  },
  "language_info": {
   "codemirror_mode": {
    "name": "ipython",
    "version": 3
   },
   "file_extension": ".py",
   "mimetype": "text/x-python",
   "name": "python",
   "nbconvert_exporter": "python",
   "pygments_lexer": "ipython3",
   "version": "3.10.12"
  }
 },
 "nbformat": 4,
 "nbformat_minor": 5
}
