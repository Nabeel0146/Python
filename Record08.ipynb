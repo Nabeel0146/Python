{
 "cells": [
  {
   "cell_type": "code",
   "execution_count": 9,
   "id": "285268f7-f106-4149-aee7-e25cd3c273d4",
   "metadata": {},
   "outputs": [
    {
     "name": "stdout",
     "output_type": "stream",
     "text": [
      "Enter length of rectangle 1 :  10\n",
      "Enter breadth of rectangle 1 :  20\n",
      "Enter length of rectangle 2 :  30\n",
      "Enter breadth of rectangle 2 :  40\n"
     ]
    },
    {
     "name": "stdout",
     "output_type": "stream",
     "text": [
      "\n",
      "Area of Rectangle 1 :  200\n",
      "Perimeter of Rectangle 1 :   60\n",
      "Area of Rectangle 2 :  1200\n",
      "Perimeter of rectangle 2 :  140\n",
      "Rectangle 1 id bigger than rectangle 2\n"
     ]
    }
   ],
   "source": [
    "class Rectangle:\n",
    "    def __init__ (self, length, breadth):\n",
    "        self.length=length\n",
    "        self.breadth = breadth\n",
    "\n",
    "    def area(self):\n",
    "        return self.length* self.breadth\n",
    "    def perimeter(self):\n",
    "        return 2* (self.length + self.breadth)\n",
    "\n",
    "\n",
    "l1=int(input(\"Enter length of rectangle 1 : \"))\n",
    "b1=int(input(\"Enter breadth of rectangle 1 : \"))\n",
    "rect1=Rectangle(l1,b1)\n",
    "\n",
    "l2=int(input(\"Enter length of rectangle 2 : \"))\n",
    "b2=int(input(\"Enter breadth of rectangle 2 : \"))\n",
    "rect2=Rectangle(l2, b2)\n",
    "\n",
    "print(\"\\nArea of Rectangle 1 : \",rect1.area())\n",
    "print(\"Perimeter of Rectangle 1 :  \" ,rect1.perimeter())\n",
    "\n",
    "print(\"Area of Rectangle 2 : \", rect2.area())\n",
    "print(\"Perimeter of rectangle 2 : \", rect2.perimeter())\n",
    "\n",
    "if rect1.area() < rect2.area():\n",
    "    print(\"Rectangle 1 id bigger than rectangle 2\")\n",
    "else:\n",
    "    print(\"Rectangle 2 id bigger than rectangle 1\")\n"
   ]
  },
  {
   "cell_type": "code",
   "execution_count": 14,
   "id": "8958b749-a670-4c96-ab3f-bdbae75cc369",
   "metadata": {},
   "outputs": [
    {
     "name": "stdout",
     "output_type": "stream",
     "text": [
      "Enter length of rectangle 1:  10\n",
      "Enter breadth of rectangle 1 : 20\n",
      "Enter length of rectangle 2:  10\n",
      "Enter breadth of rectangle 2:  22\n"
     ]
    },
    {
     "name": "stdout",
     "output_type": "stream",
     "text": [
      "Area of Rectangle 1 :  200\n",
      "Perimter of rectangel 1:  60\n",
      "Area of rectangle 2 :  220\n",
      "Perimter of rectangle 2 :  64\n",
      "Rectangle 2 is bigger in area\n"
     ]
    }
   ],
   "source": [
    "class Rectangle:\n",
    "    def __init__(self, length, breadth):\n",
    "        self.length=length\n",
    "        self.breadth=breadth\n",
    "\n",
    "    def area(self):\n",
    "        return self.length * self.breadth\n",
    "\n",
    "    def perimeter(self):\n",
    "        return 2*(self.length + self.breadth)\n",
    "\n",
    "l1=int(input(\"Enter length of rectangle 1: \"))\n",
    "b1=int(input(\"Enter breadth of rectangle 1 :\"))\n",
    "rect1=Rectangle(l1, b1)\n",
    "\n",
    "l2=int(input(\"Enter length of rectangle 2: \"))\n",
    "b2=int(input(\"Enter breadth of rectangle 2: \"))\n",
    "rect2=Rectangle(l2,b2)\n",
    "\n",
    "print(\"Area of Rectangle 1 : \", rect1.area())\n",
    "print(\"Perimter of rectangel 1: \", rect1.perimeter())\n",
    "print(\"Area of rectangle 2 : \", rect2.area())\n",
    "print(\"Perimter of rectangle 2 : \", rect2.perimeter())\n",
    "\n",
    "if rect1.area() < rect2.area():\n",
    "    print(\"Rectangle 2 is bigger in area\")\n",
    "else:\n",
    "    print(\"Rectangel 1 is bigger or equal in area \")"
   ]
  },
  {
   "cell_type": "code",
   "execution_count": 19,
   "id": "ff76d396-a48e-4c1f-8b90-02300f1bbd03",
   "metadata": {},
   "outputs": [
    {
     "name": "stdout",
     "output_type": "stream",
     "text": [
      "Enter l1:  1\n",
      "Enter b1 :  2\n",
      "Enter l2 :  3\n",
      "Enter b2 :  4\n"
     ]
    },
    {
     "name": "stdout",
     "output_type": "stream",
     "text": [
      "Area rect 1 :  2\n",
      "Perimter rect 1  6\n",
      "Area rect 2 :  4\n",
      "Peirmeter rect2 : 10\n",
      "rectangle 2 is bigger in area\n"
     ]
    }
   ],
   "source": [
    "class Rectangle:\n",
    "    def __init__(self, length, breadth):\n",
    "        self.length=length\n",
    "        self.breadth=breadth\n",
    "\n",
    "    def area(self):\n",
    "        return self.length * self.breadth\n",
    "\n",
    "    def perimeter(self):\n",
    "        return 2* (self.length + self.breadth)\n",
    "\n",
    "l1=int(input(\"Enter l1: \"))\n",
    "b1=int(input(\"Enter b1 : \"))\n",
    "rect1=Rectangle(l1,b1)\n",
    "\n",
    "\n",
    "l2=int(input(\"Enter l2 : \"))\n",
    "b2=int(input(\"Enter b2 : \"))\n",
    "rect2=Rectangle(l1,b2)\n",
    "\n",
    "print(\"Area rect 1 : \", rect1.area())\n",
    "print(\"Perimter rect 1 \", rect1.perimeter())\n",
    "\n",
    "print(\"Area rect 2 : \", rect2.area())\n",
    "print(\"Peirmeter rect2 :\", rect2.perimeter())\n",
    "\n",
    "if rect1.area() < rect2.area() :\n",
    "    print(\"rectangle 2 is bigger in area\")\n",
    "else:\n",
    "    print(\"Rectangle 1 is biigegr in area\")"
   ]
  },
  {
   "cell_type": "code",
   "execution_count": null,
   "id": "421ed3f0-2ef9-4831-9d4e-41660d75e769",
   "metadata": {},
   "outputs": [],
   "source": []
  }
 ],
 "metadata": {
  "kernelspec": {
   "display_name": "Python 3 (ipykernel)",
   "language": "python",
   "name": "python3"
  },
  "language_info": {
   "codemirror_mode": {
    "name": "ipython",
    "version": 3
   },
   "file_extension": ".py",
   "mimetype": "text/x-python",
   "name": "python",
   "nbconvert_exporter": "python",
   "pygments_lexer": "ipython3",
   "version": "3.12.7"
  }
 },
 "nbformat": 4,
 "nbformat_minor": 5
}
