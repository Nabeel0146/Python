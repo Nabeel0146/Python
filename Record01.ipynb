{
 "cells": [
  {
   "cell_type": "markdown",
   "id": "2d89fdcf-aaef-43da-a647-51b7963c94d7",
   "metadata": {},
   "source": [
    "1. Python program to accept an integer(n) and compute n+nn+nnn"
   ]
  },
  {
   "cell_type": "code",
   "execution_count": 1,
   "id": "549efc08-b22a-4a78-ae89-5f0577f4df5d",
   "metadata": {},
   "outputs": [
    {
     "name": "stdin",
     "output_type": "stream",
     "text": [
      "Enter the number:  4\n"
     ]
    },
    {
     "name": "stdout",
     "output_type": "stream",
     "text": [
      "Result of 4 + 44 +444=492\n"
     ]
    }
   ],
   "source": [
    "n= input(\"Enter the number: \")\n",
    "nn= n * 2\n",
    "nnn= n * 3 \n",
    "y= int(n)+ int (nn) + int (nnn)\n",
    "print(f\"Result of {n} + {nn} +{nnn}={y}\")"
   ]
  },
  {
   "cell_type": "markdown",
   "id": "8dfdbd2f-dfc3-4d15-9dcf-0ccb16f73a44",
   "metadata": {},
   "source": [
    "2. Python program to find area of a circle"
   ]
  },
  {
   "cell_type": "code",
   "execution_count": 2,
   "id": "4b4bd450-8064-403b-825d-fb6b91ae51d5",
   "metadata": {},
   "outputs": [
    {
     "name": "stdin",
     "output_type": "stream",
     "text": [
      "Enter the radius :  2\n"
     ]
    },
    {
     "name": "stdout",
     "output_type": "stream",
     "text": [
      "Area of a circle =  12.566370614359172\n"
     ]
    }
   ],
   "source": [
    "import math\n",
    "r = int(input(\"Enter the radius : \"))\n",
    "area = math.pi * r * r\n",
    "print(\"Area of a circle = \",area)"
   ]
  },
  {
   "cell_type": "markdown",
   "id": "09afedb6-f897-4299-b47d-b76afff665d8",
   "metadata": {},
   "source": [
    "3. Python program to find the biggest of three numbers"
   ]
  },
  {
   "cell_type": "code",
   "execution_count": 3,
   "id": "fa2faa4b-df89-4ebb-ae29-bb3c31ca8e85",
   "metadata": {},
   "outputs": [
    {
     "name": "stdin",
     "output_type": "stream",
     "text": [
      "Enter the first number :  3\n",
      "Enter the second number :  5\n",
      "Enter the third number  :  1\n"
     ]
    },
    {
     "data": {
      "text/plain": [
       "('Biggest number is :', 5.0)"
      ]
     },
     "execution_count": 3,
     "metadata": {},
     "output_type": "execute_result"
    }
   ],
   "source": [
    "a=float(input(\"Enter the first number : \"))\n",
    "b=float(input(\"Enter the second number : \"))\n",
    "c=float (input(\"Enter the third number  : \"))\n",
    "\"Biggest number is :\", max(a,b,c)"
   ]
  },
  {
   "cell_type": "code",
   "execution_count": null,
   "id": "53163507-cb28-4afe-9417-431106a273ca",
   "metadata": {},
   "outputs": [],
   "source": []
  }
 ],
 "metadata": {
  "kernelspec": {
   "display_name": "Python 3 (ipykernel)",
   "language": "python",
   "name": "python3"
  },
  "language_info": {
   "codemirror_mode": {
    "name": "ipython",
    "version": 3
   },
   "file_extension": ".py",
   "mimetype": "text/x-python",
   "name": "python",
   "nbconvert_exporter": "python",
   "pygments_lexer": "ipython3",
   "version": "3.12.7"
  }
 },
 "nbformat": 4,
 "nbformat_minor": 5
}
