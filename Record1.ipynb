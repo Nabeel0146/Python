{
 "cells": [
  {
   "cell_type": "code",
   "execution_count": null,
   "id": "8d35e3d4",
   "metadata": {},
   "outputs": [],
   "source": [
    " Python program to accept an integer(n) and compute n+nn+nnn  "
   ]
  },
  {
   "cell_type": "code",
   "execution_count": 17,
   "id": "59c31a93",
   "metadata": {
    "scrolled": false
   },
   "outputs": [
    {
     "name": "stdout",
     "output_type": "stream",
     "text": [
      "Enter the number: 4\n",
      "Result of 4 + 44 +444=492\n"
     ]
    }
   ],
   "source": [
    "n= input(\"Enter the number: \")\n",
    "nn= n * 2\n",
    "nnn= n * 3 \n",
    "y= int(n)+ int (nn) + int (nnn)\n",
    "print(f\"Result of {n} + {nn} +{nnn}={y}\")"
   ]
  },
  {
   "cell_type": "code",
   "execution_count": null,
   "id": "658faed3",
   "metadata": {},
   "outputs": [],
   "source": [
    "Python program to find area of a circle"
   ]
  },
  {
   "cell_type": "code",
   "execution_count": 8,
   "id": "19b4c3a5",
   "metadata": {},
   "outputs": [
    {
     "name": "stdout",
     "output_type": "stream",
     "text": [
      "Enter the radius : 2\n",
      "Area of a circle =  12.566370614359172\n"
     ]
    }
   ],
   "source": [
    "import math\n",
    "r = int(input(\"Enter the radius : \"))\n",
    "area = math.pi * r * r\n",
    "print(\"Area of a circle = \",area)"
   ]
  },
  {
   "cell_type": "code",
   "execution_count": null,
   "id": "ce65adda",
   "metadata": {},
   "outputs": [],
   "source": [
    "Python program to find the biggest of three numbers"
   ]
  },
  {
   "cell_type": "code",
   "execution_count": 7,
   "id": "a0a3a907",
   "metadata": {
    "scrolled": true
   },
   "outputs": [
    {
     "name": "stdout",
     "output_type": "stream",
     "text": [
      "Enter the first number : 2\n",
      "Enter the second number : 3\n",
      "Enter the third number  : 4\n"
     ]
    },
    {
     "data": {
      "text/plain": [
       "('Biggest number is :', 4.0)"
      ]
     },
     "execution_count": 7,
     "metadata": {},
     "output_type": "execute_result"
    }
   ],
   "source": [
    "a=float(input(\"Enter the first number : \"))\n",
    "b=float(input(\"Enter the second number : \"))\n",
    "c=float (input(\"Enter the third number  : \"))\n",
    "\"Biggest number is :\", max(a,b,c)"
   ]
  }
 ],
 "metadata": {
  "kernelspec": {
   "display_name": "Python 3 (ipykernel)",
   "language": "python",
   "name": "python3"
  },
  "language_info": {
   "codemirror_mode": {
    "name": "ipython",
    "version": 3
   },
   "file_extension": ".py",
   "mimetype": "text/x-python",
   "name": "python",
   "nbconvert_exporter": "python",
   "pygments_lexer": "ipython3",
   "version": "3.10.12"
  }
 },
 "nbformat": 4,
 "nbformat_minor": 5
}
