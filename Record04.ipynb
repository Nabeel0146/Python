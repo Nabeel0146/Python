
{
 "cells": [
  {
   "cell_type": "markdown",
   "id": "16c888e9",
   "metadata": {},
   "source": [
    "1. Program to count occurance of each word in a line of text"
   ]
  },
  {
   "cell_type": "code",
   "execution_count": 16,
   "id": "2db30e11",
   "metadata": {},
   "outputs": [
    {
     "name": "stdout",
     "output_type": "stream",
     "text": [
      "Enter a sentence: hi hello hi hi\n",
      "[('hi', 3), ('hello', 1)]\n"
     ]
    }
   ],
   "source": [
    "sentence = input(\"Enter a sentence: \").lower().split()\n",
    "print([(i,sentence.count(i)) for i in set(sentence)])\n",
    "\n"
   ]
  },
  {
   "cell_type": "markdown",
   "id": "3b93581e",
   "metadata": {},
   "source": [
    "2. Program to print \"over\" if the input number is more than 100"
   ]
  },
  {
   "cell_type": "code",
   "execution_count": 18,
   "id": "9859080d",
   "metadata": {},
   "outputs": [
    {
     "name": "stdout",
     "output_type": "stream",
     "text": [
      "Enter numbers separated by space: 1 29 100 1000\n",
      "[1, 29, 100, 'over']\n"
     ]
    }
   ],
   "source": [
    "numbers = list(map(int, input(\"Enter numbers separated by space: \").split()))\n",
    "outputlist=[\"over\" if num >100 else num for num in numbers]\n",
    "        \n",
    "print(outputlist)"
   ]
  },
  {
   "cell_type": "markdown",
   "id": "e194e9b5",
   "metadata": {},
   "source": [
    "3. Store a list of first names. Count the occurrences of ‘a’ within the list."
   ]
  },
  {
   "cell_type": "code",
   "execution_count": 8,
   "id": "ea77c680",
   "metadata": {},
   "outputs": [
    {
     "name": "stdout",
     "output_type": "stream",
     "text": [
      "Enter names: aa,af,afaf,afavsv,vfvsdfv\n",
      "7\n"
     ]
    }
   ],
   "source": [
    "firstnames=input(\"Enter names: \").split(\",\")\n",
    "acount=0\n",
    "\n",
    "for name in firstnames:\n",
    "    acount+= name.count(\"a\")\n",
    "    \n",
    "print(acount)"
   ]
  },
  {
   "cell_type": "markdown",
   "id": "598144f1",
   "metadata": {},
   "source": [
    "4. Enter 2 lists of integers. Check (a) Whether list are of same length (b) whether list sums to same value (c) whether any value occur in both."
   ]
  },
  {
   "cell_type": "code",
   "execution_count": 18,
   "id": "87dd215f",
   "metadata": {},
   "outputs": [
    {
     "name": "stdout",
     "output_type": "stream",
     "text": [
      "Enter the first list of integers separated by space: 1 2 3\n",
      "Enter the second list of integers separated by space: 4 3 5\n",
      "Same length for both lists: TRUE\n",
      "Same value on sum for both lists : TRUE\n",
      "{3}\n"
     ]
    }
   ],
   "source": [
    "list1 = list(map(int, input(\"Enter the first list of integers separated by space: \").split()))\n",
    "list2 = list(map(int, input(\"Enter the second list of integers separated by space: \").split()))\n",
    "commonvalues=set(list1).intersection(list2)\n",
    "           \n",
    "if len(list1)==len(list2):\n",
    "           print(\"Same length for both lists: TRUE\")\n",
    "else:\n",
    "        print(\"Same length for both lists: FALSE\")\n",
    "if sum(list1)==sum(list2):\n",
    "           print(\"Same value on sum for both lists : TRUE\")\n",
    "else:\n",
    "        print(\"Same value on sum for both lists : TRUE\")\n",
    "        \n",
    "if (commonvalues):\n",
    "    print(\"Common Values : \"commonvalues)"
   ]
  },
  {
   "cell_type": "markdown",
   "id": "05e57ab8",
   "metadata": {},
   "source": [
    "5. List comprehensions: \n",
    "           (a) Generate positive list of numbers from a given list of integers \n",
    "           (b) Square of N numbers \n",
    "           (c) Form a list of vowels selected from a given word \n",
    "           (d) List ordinal value of each element of a word (Hint: use ord() to get ordinal values)"
   ]
  },
  {
   "cell_type": "code",
   "execution_count": 24,
   "id": "8e958e82",
   "metadata": {},
   "outputs": [
    {
     "name": "stdout",
     "output_type": "stream",
     "text": [
      "---(A)---\n",
      "Enter numbers : 1 -1 0\n",
      "Postive numbers:  [1]\n",
      "---(B)---\n",
      "Enter the value of N: 3\n",
      "Squares of numbers from 1 to 3: [1, 4, 9]\n",
      "---(C)---\n",
      "Enter a word: helloi\n",
      "Vowels in the word 'helloi': ['e', 'o', 'i']\n",
      "---(D)---\n",
      "Enter a wordhi\n",
      "Ordinal values of characters in 'hi': [104, 105]\n"
     ]
    }
   ],
   "source": [
    "print(\"---(A)---\")\n",
    "numbers=list(map(int,input(\"Enter numbers : \").split()))\n",
    "positivenumbers=[num for num in numbers if num >0]\n",
    "\n",
    "print(\"Postive numbers: \", positivenumbers)\n",
    "\n",
    "\n",
    "print(\"---(B)---\")\n",
    "N = int(input(\"Enter the value of N: \"))\n",
    "squares = [i ** 2 for i in range(1, N + 1)]\n",
    "print(f\"Squares of numbers from 1 to {N}:\", squares)\n",
    "\n",
    "\n",
    "print(\"---(C)---\")\n",
    "word = input(\"Enter a word: \")\n",
    "vowels = [char for char in word if char.lower() in 'aeiou']\n",
    "print(f\"Vowels in the word '{word}':\", vowels)\n",
    "\n",
    "\n",
    "print(\"---(D)---\")\n",
    "ordword= input(\"Enter a word\")\n",
    "ordinals = [ord(char) for char in ordword]\n",
    "print(f\"Ordinal values of characters in '{ordword}':\", ordinals)"
   ]
  },
  {
   "cell_type": "code",
   "execution_count": null,
   "id": "37114f7b",
   "metadata": {},
   "outputs": [],
   "source": []
  }
 ],
 "metadata": {
  "kernelspec": {
   "display_name": "Python 3 (ipykernel)",
   "language": "python",
   "name": "python3"
  },
  "language_info": {
   "codemirror_mode": {
    "name": "ipython",
    "version": 3
   },
   "file_extension": ".py",
   "mimetype": "text/x-python",
   "name": "python",
   "nbconvert_exporter": "python",
   "pygments_lexer": "ipython3",
   "version": "3.10.12"
  }
 },
 "nbformat": 4,
 "nbformat_minor": 5
}
