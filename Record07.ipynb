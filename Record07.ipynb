{
 "cells": [
  {
   "cell_type": "markdown",
   "id": "8c787748",
   "metadata": {},
   "source": [
    "1. Module"
   ]
  },
  {
   "cell_type": "code",
   "execution_count": 6,
   "id": "2868ea91-f8d0-4d60-a7cd-cc024de662f3",
   "metadata": {},
   "outputs": [
    {
     "name": "stdout",
     "output_type": "stream",
     "text": [
      "1. Rectangle\n",
      "2. Circle\n",
      "3. Exit\n",
      "Enter your choice: 1\n",
      "Enter length: 12\n",
      "Enter breadth: 23\n",
      "Area of Rectangle:  276\n",
      "Perimeter of Rectangle:  70\n",
      "1. Rectangle\n",
      "2. Circle\n",
      "3. Exit\n",
      "Enter your choice: 2\n",
      "Enter radius: 20\n",
      "Area of Circle:  1256.0\n",
      "Perimeter of Circle: 125.60\n",
      "1. Rectangle\n",
      "2. Circle\n",
      "3. Exit\n",
      "Enter your choice: 3\n",
      "Exiting.\n"
     ]
    }
   ],
   "source": [
    "import rectangle\n",
    "import circle\n",
    "while(1):\n",
    "    print(\"1. Rectangle\\n2. Circle\\n3. Exit\")\n",
    "    ch = int(input(\"Enter your choice: \"))\n",
    "    if ch == 1:  \n",
    "        l = int(input(\"Enter length: \"))\n",
    "        b = int(input(\"Enter breadth: \"))\n",
    "        rectangle.rectarea(l, b)\n",
    "        rectangle.rectperi(l, b)\n",
    "    elif ch == 2:\n",
    "        r = int(input(\"Enter radius: \"))\n",
    "        circle.circlearea(r)\n",
    "        circle.circleperi(r)\n",
    "    elif ch == 3:\n",
    "        print(\"Exiting.\")\n",
    "        break\n",
    "    else:\n",
    "        print(\"invalid choice\")"
   ]
  },
  {
   "cell_type": "markdown",
   "id": "330aea8e",
   "metadata": {},
   "source": [
    "2. Package"
   ]
  },
  {
   "cell_type": "code",
   "execution_count": 8,
   "id": "d363b157-0337-4453-a727-dfd3fd25b606",
   "metadata": {},
   "outputs": [
    {
     "name": "stdout",
     "output_type": "stream",
     "text": [
      "1. Rectangle\n",
      "2. Circle\n",
      "3. Cuboid\n",
      "4. Sphere\n",
      "5. Exit\n",
      "Enter your choice: 1\n",
      "Enter length: 11\n",
      "Enter breadth: 112\n",
      "Area of Rectangle:  1232\n",
      "Perimeter of Rectangle:  246\n",
      "1. Rectangle\n",
      "2. Circle\n",
      "3. Cuboid\n",
      "4. Sphere\n",
      "5. Exit\n",
      "Enter your choice: 2\n",
      "Enter radius: 3\n",
      "Area of Circle:  28.259999999999998\n",
      "Perimeter of Circle: 18.84\n",
      "1. Rectangle\n",
      "2. Circle\n",
      "3. Cuboid\n",
      "4. Sphere\n",
      "5. Exit\n",
      "Enter your choice: 3\n",
      "Enter length: 33\n",
      "Enter breadth: 44\n",
      "Enter height: 55\n",
      "Area of cuboid:  11374\n",
      "Perimeter of cuboid:  528\n",
      "1. Rectangle\n",
      "2. Circle\n",
      "3. Cuboid\n",
      "4. Sphere\n",
      "5. Exit\n",
      "Enter your choice: 4\n",
      "Enter radius: 50\n",
      "Surface area of sphere:  31400.0\n",
      "Circumference of sphere: 314.00\n",
      "1. Rectangle\n",
      "2. Circle\n",
      "3. Cuboid\n",
      "4. Sphere\n",
      "5. Exit\n",
      "Enter your choice: 5\n",
      "Exiting\n"
     ]
    }
   ],
   "source": [
    "from graphics import rectangle\n",
    "from graphics import circle\n",
    "from graphics.graphics3d import cuboid\n",
    "from graphics.graphics3d import sphere\n",
    "while(1):\n",
    "    print(\"1. Rectangle\\n2. Circle\\n3. Cuboid\\n4. Sphere\\n5. Exit\")\n",
    "    ch = int(input(\"Enter your choice: \"))    \n",
    "    if ch == 1:\n",
    "        l = int(input(\"Enter length: \"))\n",
    "        b = int(input(\"Enter breadth: \"))\n",
    "        rectangle.rectarea(l, b)\n",
    "        rectangle.rectperi(l, b)    \n",
    "    elif ch == 2:\n",
    "        r = int(input(\"Enter radius: \"))\n",
    "        circle.circlearea(r)\n",
    "        circle.circleperi(r)\n",
    "    elif ch == 3:\n",
    "        l = int(input(\"Enter length: \"))\n",
    "        b = int(input(\"Enter breadth: \"))\n",
    "        h = int(input(\"Enter height: \"))\n",
    "        cuboid.cuboidarea(l, b, h)\n",
    "        cuboid.cuboidperi(l, b, h)\n",
    "    elif ch == 4:\n",
    "        r = int(input(\"Enter radius: \"))\n",
    "        sphere.spherearea(r)\n",
    "        sphere.sphereperi(r)\n",
    "    else:\n",
    "        print(\"Exiting\")\n",
    "        break"
   ]
  },
  {
   "cell_type": "code",
   "execution_count": null,
   "id": "f3c5d95c",
   "metadata": {},
   "outputs": [],
   "source": []
  }
 ],
 "metadata": {
  "kernelspec": {
   "display_name": "Python 3 (ipykernel)",
   "language": "python",
   "name": "python3"
  },
  "language_info": {
   "codemirror_mode": {
    "name": "ipython",
    "version": 3
   },
   "file_extension": ".py",
   "mimetype": "text/x-python",
   "name": "python",
   "nbconvert_exporter": "python",
   "pygments_lexer": "ipython3",
   "version": "3.10.12"
  }
 },
 "nbformat": 4,
 "nbformat_minor": 5
}
