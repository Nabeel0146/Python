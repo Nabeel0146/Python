{
 "cells": [
  {
   "cell_type": "markdown",
   "id": "635e7aa0",
   "metadata": {
    "tags": [
     "question"
    ]
   },
   "source": [
    "1. Python program to change a given string to a new string where the first and last chars have been exchanged."
   ]
  },
  {
   "cell_type": "code",
   "execution_count": 2,
   "id": "846a7d60",
   "metadata": {
    "tags": [
     "code"
    ]
   },
   "outputs": [
    {
     "name": "stdout",
     "output_type": "stream",
     "text": [
      "Enter a String :hello\n",
      "hello with first and last letter Swapped =  oellh\n"
     ]
    }
   ],
   "source": [
    "def swapletters(s):\n",
    "    \n",
    "    if len(s)<=1:\n",
    "        print(\"type a bigger word\")\n",
    "    \n",
    "    newstring=s[-1]+ s[1:-1] + s[0]\n",
    "    return newstring\n",
    "\n",
    "inputstring=input(\"Enter a String :\")\n",
    "result=swapletters(inputstring)\n",
    "print(inputstring,\"with first and last letter Swapped = \", result)"
   ]
  },
  {
   "cell_type": "markdown",
   "id": "84fb5ff5",
   "metadata": {},
   "source": [
    " "
   ]
  },
  {
   "cell_type": "markdown",
   "id": "01f78705",
   "metadata": {
    "tags": [
     "question"
    ]
   },
   "source": [
    "2. Python program to get a single string from two given strings, separated by a space and swap the first two characters of each string."
   ]
  },
  {
   "cell_type": "code",
   "execution_count": 3,
   "id": "0e525127",
   "metadata": {},
   "outputs": [
    {
     "name": "stdout",
     "output_type": "stream",
     "text": [
      "Enter First String: hello\n",
      "Enter Second String: worls\n",
      "hello worls \n",
      " swapped string 1 :  oellh , swapped string 2 :  sorlw\n"
     ]
    }
   ],
   "source": [
    "def swapletters(s):\n",
    "    if len(s)<=1:\n",
    "        return s\n",
    "    \n",
    "    newstring=s[-1]+ s[1:-1] + s[0]\n",
    "    return newstring\n",
    "\n",
    "string1=input(\"Enter First String: \")\n",
    "string2=input(\"Enter Second String: \")\n",
    "\n",
    "swappedstring1=swapletters(string1)\n",
    "swappedstring2=swapletters(string2)\n",
    "\n",
    "print(string1+\" \"+string2,\"\\n\",\"swapped string 1 : \", swappedstring1, \", swapped string 2 : \", swappedstring2)"
   ]
  },
  {
   "cell_type": "markdown",
   "id": "558133ea",
   "metadata": {},
   "source": [
    " "
   ]
  },
  {
   "cell_type": "markdown",
   "id": "d71f78ea",
   "metadata": {},
   "source": [
    "3. Python program to get a string from a given string where all occurrences of its first char have been changed to $, except the first char itself"
   ]
  },
  {
   "cell_type": "code",
   "execution_count": 4,
   "id": "dca1cea0",
   "metadata": {},
   "outputs": [
    {
     "name": "stdout",
     "output_type": "stream",
     "text": [
      "Enter the stringhellohi\n",
      "Result:  hello$i\n"
     ]
    }
   ],
   "source": [
    "def replacechar(s):\n",
    "    firstchar= s[0]\n",
    "    if firstchar not in s[1:]:\n",
    "     print(\"first character not repeated!!!\")\n",
    "    modifiedchar= firstchar + s[1:].replace(firstchar, \"$\")\n",
    "  \n",
    "    \n",
    "    return modifiedchar\n",
    "\n",
    "String=input(\"Enter the string\")\n",
    "result=replacechar(String)\n",
    "print(\"Result: \", result)"
   ]
  },
  {
   "cell_type": "markdown",
   "id": "8b64f88d",
   "metadata": {},
   "source": [
    " "
   ]
  },
  {
   "cell_type": "markdown",
   "id": "5db1f78b",
   "metadata": {},
   "source": [
    "4. Create a list of colors from comma-separated color names entered by user. Display first and last colors."
   ]
  },
  {
   "cell_type": "code",
   "execution_count": 37,
   "id": "b4aed337",
   "metadata": {},
   "outputs": [
    {
     "name": "stdout",
     "output_type": "stream",
     "text": [
      "Enter colors : red, green, blue\n",
      "First color :  red \n",
      " Second color :   blue\n"
     ]
    }
   ],
   "source": [
    "colors=input(\"Enter colors : \")\n",
    "colorseperated=colors.split(',')\n",
    "print(\"First color : \",colorseperated[0],\"\\n Second color : \", colorseperated[-1])"
   ]
  },
  {
   "cell_type": "markdown",
   "id": "77f96b42",
   "metadata": {},
   "source": [
    " "
   ]
  },
  {
   "cell_type": "markdown",
   "id": "8c5d06c3",
   "metadata": {},
   "source": [
    "5. Python program to accept a filename from the user, print extension of that"
   ]
  },
  {
   "cell_type": "code",
   "execution_count": 11,
   "id": "29d7f902",
   "metadata": {},
   "outputs": [
    {
     "name": "stdout",
     "output_type": "stream",
     "text": [
      "Enter the filename: hii\n",
      "Enter a valid filename with an extension\n"
     ]
    }
   ],
   "source": [
    "filename=input(\"Enter the filename: \")\n",
    "if '.' in filename:\n",
    "    extension= filename.split('.')[-1]\n",
    "    print(\"Extension is \", extension)\n",
    "else:\n",
    "    print(\"Enter a valid filename with an extension\")"
   ]
  },
  {
   "cell_type": "markdown",
   "id": "4d05c7d5",
   "metadata": {},
   "source": [
    "6. Program to find the 3rd element and the 3rd element from the last of a tuple"
   ]
  },
  {
   "cell_type": "code",
   "execution_count": 15,
   "id": "df034dd7",
   "metadata": {},
   "outputs": [
    {
     "name": "stdout",
     "output_type": "stream",
     "text": [
      "Input the elements of the tuple seperated by space :2 3 4 5 \n",
      "3rd element from start is : 4 \n",
      " 3rd element from the last is : 3\n"
     ]
    }
   ],
   "source": [
    "mytuple=tuple(input(\"Input the elements of the tuple seperated by space :\").split())\n",
    "firstthird= mytuple[2]\n",
    "lastthird= mytuple[-3]\n",
    "print(\"3rd element from start is :\", firstthird , \"\\n\", \"3rd element from the last is :\", lastthird )"
   ]
  },
  {
   "cell_type": "markdown",
   "id": "ab007a0c",
   "metadata": {},
   "source": [
    "7 .Program to print all colors from colorset1 that are not in colorset2 using set difference"
   ]
  },
  {
   "cell_type": "code",
   "execution_count": 17,
   "id": "02fe4dfb",
   "metadata": {},
   "outputs": [
    {
     "name": "stdout",
     "output_type": "stream",
     "text": [
      "Enter colors for SET 1 seperated by space :green red blue\n",
      "Enter colors for SET 2 seperated by space :green red nothing\n",
      "Color Set 1 - Colors set 2 = {'blue'}\n"
     ]
    }
   ],
   "source": [
    "colorset1=set(input(\"Enter colors for SET 1 seperated by space :\").split())\n",
    "colorset2=set(input(\"Enter colors for SET 2 seperated by space :\").split())\n",
    "\n",
    "difference = colorset1-colorset2\n",
    "\n",
    "print(\"Color Set 1 - Colors set 2 =\", difference)"
   ]
  },
  {
   "cell_type": "markdown",
   "id": "ba71b5cf",
   "metadata": {},
   "source": [
    "8.Write a Python program to sort dictionary in ascending and descending order. "
   ]
  },
  {
   "cell_type": "code",
   "execution_count": 13,
   "id": "5360f54f",
   "metadata": {},
   "outputs": [
    {
     "name": "stdout",
     "output_type": "stream",
     "text": [
      "Enter Priority for python3\n",
      "Enter Priority DC2\n",
      "Enter Priority MFCA1\n",
      "{'Python': '3', 'DS': '2', 'MFCA': '1'}\n",
      "discending Dictionary= {'Python': '3', 'DS': '2', 'MFCA': '1'}\n"
     ]
    }
   ],
   "source": [
    "dict1={}\n",
    "dict1['Python']=input(\"Enter Priority for python\")\n",
    "dict1['DS']=input(\"Enter Priority DC\")\n",
    "dict1['MFCA']=input(\"Enter Priority MFCA\")\n",
    "\n",
    "print(dict1)\n",
    "\n",
    "sorted_dict = dict(sorted(dict1.items(), key=lambda item: item[1], reverse=True))\n",
    "\n",
    "print(\"discending Dictionary=\", sorted_dict)\n",
    "\n"
   ]
  },
  {
   "cell_type": "markdown",
   "id": "2be5a8da",
   "metadata": {},
   "source": [
    "9. Program to sort disctionary in ascending and descending order"
   ]
  },
  {
   "cell_type": "code",
   "execution_count": 12,
   "id": "f03fe0b6",
   "metadata": {},
   "outputs": [
    {
     "name": "stdout",
     "output_type": "stream",
     "text": [
      "Enter student name me\n",
      "Enter student name u\n",
      "Enter student name who\n",
      "Enter student name we\n",
      "Enter student name yea\n",
      "First Dictionary =  {'1st student': 'me', '2st student': 'u', '3st student': 'who'}\n",
      "Second Dictionary =  {'4st student': 'we', '5st student': 'yea'}\n",
      "Merged Disctionary =  {'1st student': 'me', '2st student': 'u', '3st student': 'who', '4st student': 'we', '5st student': 'yea'}\n"
     ]
    }
   ],
   "source": [
    "dict1={}\n",
    "dict2={}\n",
    "\n",
    "dict1['1st student']=input(\"Enter student name \")\n",
    "dict1['2st student']=input(\"Enter student name \")\n",
    "dict1['3st student']=input(\"Enter student name \")\n",
    "\n",
    "dict2['4st student']=input(\"Enter student name \")\n",
    "dict2['5st student']=input(\"Enter student name \")\n",
    "\n",
    "print(\"First Dictionary = \", dict1)\n",
    "print(\"Second Dictionary = \", dict2)\n",
    "dict1.update(dict2)\n",
    "print(\"Merged Disctionary = \",dict1 )"
   ]
  },
  {
   "cell_type": "markdown",
   "id": "86fdb14a",
   "metadata": {},
   "source": [
    "10. Write a Python program program to print all even numbers from 1 to 25 and calculate sum ."
   ]
  },
  {
   "cell_type": "code",
   "execution_count": 14,
   "id": "758d1dba",
   "metadata": {},
   "outputs": [
    {
     "name": "stdout",
     "output_type": "stream",
     "text": [
      "Even Number :  [2, 4, 6, 8, 10, 12, 14, 16, 18, 20, 22, 24]\n",
      "Sum: 156\n"
     ]
    }
   ],
   "source": [
    "en = list(range(2, 26, 2))\n",
    "print(\"Even Number : \",en)\n",
    "ts = sum(en)\n",
    "print(\"Sum:\", ts)"
   ]
  }
 ],
 "metadata": {
  "kernelspec": {
   "display_name": "Python 3 (ipykernel)",
   "language": "python",
   "name": "python3"
  },
  "language_info": {
   "codemirror_mode": {
    "name": "ipython",
    "version": 3
   },
   "file_extension": ".py",
   "mimetype": "text/x-python",
   "name": "python",
   "nbconvert_exporter": "python",
   "pygments_lexer": "ipython3",
   "version": "3.10.12"
  }
 },
 "nbformat": 4,
 "nbformat_minor": 5
}
