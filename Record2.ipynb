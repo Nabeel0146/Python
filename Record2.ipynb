{
 "cells": [
  {
   "cell_type": "markdown",
   "id": "13c5cad3",
   "metadata": {},
   "source": [
    "1. Program to convert Celsius to Fahrenheit "
   ]
  },
  {
   "cell_type": "code",
   "execution_count": 5,
   "id": "ed9cdc17",
   "metadata": {},
   "outputs": [
    {
     "name": "stdout",
     "output_type": "stream",
     "text": [
      "Enter the celsius value :25\n",
      "25.0 C is equal to 77.0 Fahrenheit\n"
     ]
    }
   ],
   "source": [
    "celsius=float(input(\"Enter the celsius value :\"))\n",
    "fahren=celsius * 9/5  + 32\n",
    "print(celsius,\"C is equal to\",fahren,\"Fahrenheit\")"
   ]
  },
  {
   "cell_type": "markdown",
   "id": "1bffe94b",
   "metadata": {},
   "source": [
    " "
   ]
  },
  {
   "cell_type": "markdown",
   "id": "b1afab95",
   "metadata": {},
   "source": [
    "2. Program to convert kilometer into Miles "
   ]
  },
  {
   "cell_type": "code",
   "execution_count": 8,
   "id": "e0ca27a9",
   "metadata": {},
   "outputs": [
    {
     "name": "stdout",
     "output_type": "stream",
     "text": [
      "Enter the kilometer :2\n",
      "2.0 kilometer is equal to  1.242742 Miles\n"
     ]
    }
   ],
   "source": [
    "kilometer=float(input(\"Enter the kilometer :\"))\n",
    "Mile= kilometer*0.621371\n",
    "print(kilometer, \"kilometer is equal to \",Mile, \"Miles\")"
   ]
  },
  {
   "cell_type": "markdown",
   "id": "6c1af157",
   "metadata": {},
   "source": [
    " "
   ]
  },
  {
   "cell_type": "markdown",
   "id": "7048d56e",
   "metadata": {},
   "source": [
    "3. Program to find total, average and final of a three product"
   ]
  },
  {
   "cell_type": "code",
   "execution_count": 11,
   "id": "609a4b96",
   "metadata": {},
   "outputs": [
    {
     "name": "stdout",
     "output_type": "stream",
     "text": [
      "Enter the  price of Product A : 100\n",
      "Enter the  price of Product B : 60\n",
      "Enter the  price of Product C : 20\n",
      "Total Price =  180.0\n",
      "Final price :153.00\n",
      "Average = 60.00\n",
      "A is more Expensive than Final price : FALSE\n",
      "B is more Expensive than Final price : FALSE \n",
      "C is more Expensive than Final price : FALSE \n",
      "Final price is in the Range of $50 to $200 : TRUE\n"
     ]
    }
   ],
   "source": [
    "A = float(input(\"Enter the  price of Product A : \"))\n",
    "B = float(input(\"Enter the  price of Product B : \"))\n",
    "C = float(input(\"Enter the  price of Product C : \"))\n",
    "TP = A + B + C\n",
    "print(\"Total Price = \",TP)\n",
    "DT = TP * 0.15\n",
    "FP = TP - DT\n",
    "print(f\"Final price :{FP :.2f}\")\n",
    "AVG = TP/3\n",
    "print(f\"Average = {AVG :.2f}\")\n",
    "if A > FP :\n",
    "    print(\"A is more Expensive than Final price : TRUE\")\n",
    "else: \n",
    "    print(\"A is more Expensive than Final price : FALSE\")\n",
    "if B > FP :\n",
    "    print(\"B is more Expensive than Final price : TRUE\")\n",
    "else :\n",
    "    print(\"B is more Expensive than Final price : FALSE \")\n",
    "if C > FP :\n",
    "    print(\"C is more Expensive than Final price : TRUE\")\n",
    "else :\n",
    "    print(\"C is more Expensive than Final price : FALSE \")\n",
    "if FP >= 50 and FP <= 200 :\n",
    "    print(\"Final price is in the Range of $50 to $200 : TRUE\")\n",
    "else :\n",
    "    print(\"Final price is the Range of $50 to $200 : FALSE\")"
   ]
  },
  {
   "cell_type": "code",
   "execution_count": null,
   "id": "533eab91",
   "metadata": {},
   "outputs": [],
   "source": []
  }
 ],
 "metadata": {
  "kernelspec": {
   "display_name": "Python 3 (ipykernel)",
   "language": "python",
   "name": "python3"
  },
  "language_info": {
   "codemirror_mode": {
    "name": "ipython",
    "version": 3
   },
   "file_extension": ".py",
   "mimetype": "text/x-python",
   "name": "python",
   "nbconvert_exporter": "python",
   "pygments_lexer": "ipython3",
   "version": "3.10.12"
  }
 },
 "nbformat": 4,
 "nbformat_minor": 5
}
